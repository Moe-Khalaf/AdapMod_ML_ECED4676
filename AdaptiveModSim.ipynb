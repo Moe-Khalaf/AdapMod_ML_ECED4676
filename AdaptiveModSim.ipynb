{
  "nbformat": 4,
  "nbformat_minor": 0,
  "metadata": {
    "colab": {
      "provenance": [],
      "authorship_tag": "ABX9TyMPg9GWVlRDGxpI4YTeDhpw",
      "include_colab_link": true
    },
    "kernelspec": {
      "name": "python3",
      "display_name": "Python 3"
    },
    "language_info": {
      "name": "python"
    }
  },
  "cells": [
    {
      "cell_type": "markdown",
      "metadata": {
        "id": "view-in-github",
        "colab_type": "text"
      },
      "source": [
        "<a href=\"https://colab.research.google.com/github/Moe-Khalaf/AdapMod_ML_ECED4676/blob/main/AdaptiveModSim.ipynb\" target=\"_parent\"><img src=\"https://colab.research.google.com/assets/colab-badge.svg\" alt=\"Open In Colab\"/></a>"
      ]
    },
    {
      "cell_type": "markdown",
      "source": [
        "# Adaptive Modulation Simulation\n",
        "##### Developers: Mohammedali Khalaf, Rehan Khalid\n",
        "## 1. Description\n",
        "This Jupyter Notebook contains the project for ECED 4676. The objective of this\n",
        "project is to model an adaptive modulation communication link.\n",
        "\n",
        "This communication link is to be catered towards underwater communications, and as such, will be dealing with multipath and additive white gaussian noise. The particular schemes to be featured in this adaptive modulation link are\n",
        "- B-FSK\n",
        "- 4-FSK\n",
        "- 8-FSK\n",
        "\n",
        "B-FSK will be used to accomodate the harshest of conditions while 8-FSK will be used to accomodate the most favorable.\n",
        "\n",
        "The way that this model will work is by assessing the bit error rate and time to transmit of a particular bitstream. Afterwards, this model will repeat the process using a fixed modulation system of each of the three selected modulation schemes. This way, the effectiveness of the adaptive modulation can be assessed against its fixed alternatives."
      ],
      "metadata": {
        "id": "rLRtyGiV2Lcj"
      }
    },
    {
      "cell_type": "code",
      "execution_count": 1,
      "metadata": {
        "colab": {
          "base_uri": "https://localhost:8080/"
        },
        "id": "FVz0VAdWa8X1",
        "outputId": "26c82271-9666-4644-a16f-92832ad669f6"
      },
      "outputs": [
        {
          "output_type": "stream",
          "name": "stdout",
          "text": [
            "Mounted at /content/drive\n"
          ]
        }
      ],
      "source": [
        "import pandas as pd\n",
        "import numpy as np\n",
        "import matplotlib.pyplot as plt\n",
        "import random\n",
        "from google.colab import drive\n",
        "drive.mount('/content/drive')"
      ]
    },
    {
      "cell_type": "markdown",
      "source": [
        "## 2. Function Library\n",
        "Below are some user defined functions that will streamline the development process."
      ],
      "metadata": {
        "id": "xiMFqjU93mk3"
      }
    },
    {
      "cell_type": "markdown",
      "source": [
        "### 2.1 Bitstream Generation\n",
        "The functions below are used in the process of generating bitstreams to test the system on."
      ],
      "metadata": {
        "id": "9QKe5zizyNJY"
      }
    },
    {
      "cell_type": "code",
      "source": [
        "def generate_random_bits(len):\n",
        "    \"\"\"\n",
        "    Generate a bitstream to transmit.\n",
        "\n",
        "    :param len: Length of the bitstream.\n",
        "    :return: NumPy array containing the bitstream.\n",
        "    \"\"\"\n",
        "    return np.array([random.randint(0, 1) for i in range(len)])\n",
        "\n",
        "def convert_bitstream_for_4fsk(bitstream):\n",
        "    \"\"\"\n",
        "    Convert a bitstream to a format suitable for 4FSK modulation. Essentially,\n",
        "    this function groups the bits into pairs. [0, 1, 1, 1] -> [01, 11]\n",
        "\n",
        "    :param bitstream: Bitstream to convert.\n",
        "    :return: Converted bitstream.\n",
        "    \"\"\"\n",
        "    # Convert the NumPy array to a string\n",
        "    bitstream_str = ''.join(map(str, bitstream))\n",
        "\n",
        "    # Group the bits into pairs\n",
        "    paired_bits = [bitstream_str[i:i+2] for i in range(0, len(bitstream_str), 2)]\n",
        "\n",
        "    return paired_bits\n",
        "\n",
        "def convert_bitstream_for_8fsk(bitstream):\n",
        "    \"\"\"\n",
        "    Convert a bitstream to a format suitable for 8FSK modulation. Essentially,\n",
        "    this function groups the bits into triplets. [0, 1, 1, 1, 0, 1, 0, 1, 0] -> [011, 101, 010]\n",
        "\n",
        "    :param bitstream: Bitstream to convert.\n",
        "    :return: Converted bitstream\n",
        "    \"\"\"\n",
        "    # Convert the NumPy array to a string\n",
        "    bitstream_str = ''.join(map(str, bitstream))\n",
        "\n",
        "    # Group the bits into triplets\n",
        "    triplet_bits = [bitstream_str[i:i+3] for i in range(0, len(bitstream_str), 3)]\n",
        "\n",
        "    return triplet_bits\n",
        "\n",
        "def calculate_bitstream_errors(bitstream1, bitstream2):\n",
        "    \"\"\"\n",
        "    Calculate the number of differing bits (errors) between two bitstreams.\n",
        "\n",
        "    :param bitstream1: First bitstream as a numpy array.\n",
        "    :param bitstream2: Second bitstream as a numpy array.\n",
        "    :return: Number of differing bits (errors).\n",
        "    \"\"\"\n",
        "    if bitstream1.shape != bitstream2.shape:\n",
        "        raise ValueError(\"Bitstreams must be of the same length\")\n",
        "\n",
        "    # Calculate the number of differing bits\n",
        "    errors = np.sum(bitstream1 != bitstream2)\n",
        "    return errors"
      ],
      "metadata": {
        "id": "-JFLhYkkqLEl"
      },
      "execution_count": 27,
      "outputs": []
    },
    {
      "cell_type": "markdown",
      "source": [
        "### 2.2. Signal Generation\n",
        "The functions below are used in the process of generating signals."
      ],
      "metadata": {
        "id": "puyKXaVdyRh3"
      }
    },
    {
      "cell_type": "code",
      "source": [
        "def generate_BFSK_Signal_vectorized(bitstream, f1, f2, fs, fc, T_symbol):\n",
        "    \"\"\"\n",
        "    Generate a BFSK signal using vectorization.\n",
        "\n",
        "    :param bitstream: Bitstream to modulate.\n",
        "    :param f1: Frequency representing '0'.\n",
        "    :param f2: Frequency representing '1'.\n",
        "    :param fs: Sampling frequency.\n",
        "    :param T_symbol: Symbol duration.\n",
        "    :return: BFSK signal as a numpy array.\n",
        "    \"\"\"\n",
        "    num_bits = len(bitstream)\n",
        "    t = np.arange(0, num_bits * T_symbol, 1/fs)  # Full time vector for all symbols\n",
        "\n",
        "    # Initialize the waveform\n",
        "    f_waveform = np.zeros(len(t), dtype=complex)\n",
        "\n",
        "    # Create the waveform for each bit in the bitstream\n",
        "    for i, bit in enumerate(bitstream):\n",
        "        start_index = i * int(T_symbol * fs)\n",
        "        end_index = start_index + int(T_symbol * fs)\n",
        "        frequency = f1 if bit == 0 else f2\n",
        "        f_waveform[start_index:end_index] = np.exp(2j * np.pi * frequency * t[start_index:end_index])\n",
        "\n",
        "    # Upconvert with Carrier Frequency\n",
        "    signal_upconverted = f_waveform*np.exp(2j*np.pi*fc*t)\n",
        "    return signal_upconverted\n",
        "\n",
        "def generate_4FSK_Signal(bitstream, f1, f2, f3, f4, fs, T_symbol):\n",
        "    \"\"\"\n",
        "    Generate a 4FSK signal.\n",
        "\n",
        "    :param bitstream: Bitstream to modulate.\n",
        "    :param f1: Frequency representing '00'.\n",
        "    :param f2: Frequency representing '01'.\n",
        "    :param f3: Frequency representing '10'.\n",
        "    :param f4: Frequency representing '11'.\n",
        "    :param fs: Sampling frequency.\n",
        "    :param T_symbol: Symbol duration.\n",
        "    :return: 4FSK signal as a numPy array.\n",
        "    \"\"\"\n",
        "    Converted_bitstream = convert_bitstream_for_4fsk(bitstream)\n",
        "    t = np.arange(0, T_symbol, 1/fs) # Time Vector per Symbol (Start, Stop, Step)\n",
        "    signal = np.array([])\n",
        "    for bit in Converted_bitstream:\n",
        "        if bit == '00':\n",
        "            f = f1\n",
        "        elif bit == '01':\n",
        "            f = f2\n",
        "        elif bit == '10':\n",
        "            f = f3\n",
        "        else:\n",
        "            f = f4\n",
        "        waveform = np.sin(2*np.pi*f*t)\n",
        "        signal = np.concatenate((signal, waveform))\n",
        "    return signal\n",
        "\n",
        "def generate_8FSK_Signal(bitstream, f1, f2, f3, f4, f5, f6, f7, f8, fs, T_symbol):\n",
        "    \"\"\"\n",
        "    Generate a 8FSK signal.\n",
        "\n",
        "    :param bitstream: Bitstream to modulate.\n",
        "    :param f1: Frequency representing '000'.\n",
        "    :param f2: Frequency representing '001'.\n",
        "    :param f3: Frequency representing '010'.\n",
        "    :param f4: Frequency representing '011'.\n",
        "    :param f5: Frequency representing '100'.\n",
        "    :param f6: Frequency representing '101'.\n",
        "    :param f7: Frequency representing '110'.\n",
        "    :param f8: Frequency representing '111'.\n",
        "    :param fs: Sampling frequency.\n",
        "    :param T_symbol: Symbol duration.\n",
        "    :return: 8FSK signal as a numPy array.\n",
        "    \"\"\"\n",
        "    Converted_bitstream = convert_bitstream_for_8fsk(bitstream)\n",
        "    t = np.arange(0, T_symbol, 1/fs) # Time Vector per Symbol (Start, Stop, Step)\n",
        "    signal = np.array([])\n",
        "    for bit in Converted_bitstream:\n",
        "        if bit == '000':\n",
        "            f = f1\n",
        "        elif bit == '001':\n",
        "            f = f2\n",
        "        elif bit == '010':\n",
        "            f = f3\n",
        "        elif bit == '011':\n",
        "            f = f4\n",
        "        elif bit == '100':\n",
        "            f = f5\n",
        "        elif bit == '101':\n",
        "            f = f6\n",
        "        elif bit == '110':\n",
        "            f = f7\n",
        "        else:\n",
        "            f = f8\n",
        "        waveform = np.sin(2*np.pi*f*t)\n",
        "        signal = np.concatenate((signal, waveform))\n",
        "    return signal"
      ],
      "metadata": {
        "id": "C9yErTSmh4zZ"
      },
      "execution_count": 31,
      "outputs": []
    },
    {
      "cell_type": "markdown",
      "source": [
        "### 2.3 Channel Condition Generation\n",
        "The functions below are used in the process of generatng and applying channel conditions."
      ],
      "metadata": {
        "id": "yncuRmcYyogu"
      }
    },
    {
      "cell_type": "code",
      "source": [
        "def apply_multipath(signal, delays, attenuations, sampling_freq):\n",
        "    \"\"\"\n",
        "    Apply multipath effects to a signal without extending its length.\n",
        "\n",
        "    :param signal: The original signal (numpy array).\n",
        "    :param delays: List of delays for each path in seconds.\n",
        "    :param attenuations: List of attenuation factors for each path (0 to 1).\n",
        "    :param sampling_freq: Sampling frequency of the signal.\n",
        "    :return: Signal with multipath effects applied.\n",
        "    \"\"\"\n",
        "    multipath_signal = np.copy(signal)  # Start with the original signal\n",
        "\n",
        "    # Add each delayed and attenuated path\n",
        "    for delay, attenuation in zip(delays, attenuations):\n",
        "        delay_samples = int(delay * sampling_freq)\n",
        "        delayed_signal = np.zeros(len(signal))\n",
        "        delayed_signal[:len(signal) - delay_samples] = signal[delay_samples:] * attenuation\n",
        "        multipath_signal += delayed_signal\n",
        "\n",
        "    return multipath_signal\n",
        "\n",
        "def apply_awgn_snr(signal, snr_db): # Applies addiive white gausian noise to signal\n",
        "    \"\"\"\n",
        "    Apply Additive White Gaussian Noise to a signal based on a given SNR in dB.\n",
        "\n",
        "    :param signal: The original signal (numpy array).\n",
        "    :param snr_db: Desired Signal-to-Noise Ratio in dB.\n",
        "    :return: Signal with AWGN applied.\n",
        "    \"\"\"\n",
        "    # Calculate signal power\n",
        "    signal_power = np.mean(np.abs(signal)**2)\n",
        "\n",
        "    # Convert SNR from dB to linear scale\n",
        "    snr_linear = 10 ** (snr_db / 10)\n",
        "\n",
        "    # Calculate noise power based on SNR\n",
        "    noise_power = signal_power / snr_linear\n",
        "\n",
        "    # Generate white Gaussian noise\n",
        "    noise = np.random.normal(0, np.sqrt(noise_power), len(signal))\n",
        "\n",
        "    # Add noise to the signal\n",
        "    noisy_signal = signal + noise\n",
        "\n",
        "    return noisy_signal\n",
        "\n",
        "def generate_random_mp_conditions():\n",
        "    \"\"\"\n",
        "    Generate a random set of multipath conditions with ordered delays and attenuations scaling linearly with delay.\n",
        "\n",
        "    :return: List of multipath conditions.\n",
        "    \"\"\"\n",
        "    alpha = -0.02645 # Attenuation constant (Approximation based of of kinslers fundamentals of acoustics)\n",
        "    # Generate a random number of paths\n",
        "    num_paths = np.random.randint(1, 5)\n",
        "\n",
        "    # Generate and sort random delays\n",
        "    delays = np.sort(np.random.uniform(0, 0.01, num_paths))\n",
        "\n",
        "    # Calculate attenuations that decay exponentially with delay\n",
        "    attenuations = [min_attenuation * np.exp(-delay * alpha/max(delays)) for delay in delays]\n",
        "\n",
        "    # Ensure that attenuations do not exceed min_attenuation\n",
        "    attenuations = [max(att, min_attenuation) for att in attenuations]\n",
        "\n",
        "    return delays, attenuations"
      ],
      "metadata": {
        "id": "TVnDm4DtyzM8"
      },
      "execution_count": null,
      "outputs": []
    },
    {
      "cell_type": "markdown",
      "source": [
        "### 2.4 Demodulation\n",
        "The functions below are used in the process of demodulating signals."
      ],
      "metadata": {
        "id": "IuNHnSLqy8Fv"
      }
    },
    {
      "cell_type": "code",
      "source": [
        "def matched_filter(signal, template, fs):\n",
        "    \"\"\"\n",
        "    Apply a matched filter to the signal.\n",
        "\n",
        "    :param signal: The input signal.\n",
        "    :param template: The template or reference signal for the matched filter.\n",
        "    :param fs: Sampling frequency.\n",
        "    :return: The filtered signal.\n",
        "    \"\"\"\n",
        "    return np.correlate(signal, template, 'same')\n",
        "\n",
        "def demodulate_BFSK_FrequencyMixing_Vectorized(bfsk_signal, f1, f2, fs, fc, T_symbol):\n",
        "    num_samples_per_symbol = int(fs * T_symbol)\n",
        "    num_symbols = len(bfsk_signal) // num_samples_per_symbol\n",
        "\n",
        "    # Create a time vector for the entire signal\n",
        "    t = np.arange(0, len(bfsk_signal) / fs, 1 / fs)\n",
        "\n",
        "    # Downconvert the signal to baseband\n",
        "    downconverted_signal = bfsk_signal * np.exp(-2j * np.pi * fc * t)\n",
        "\n",
        "    # Reshape the downconverted signal to a 2D array (each row is a symbol)\n",
        "    reshaped_signal = downconverted_signal[:num_symbols * num_samples_per_symbol].reshape((num_symbols, num_samples_per_symbol))\n",
        "\n",
        "    # Create a time vector for one symbol and repeat it for each symbol\n",
        "    t_symbol = np.arange(0, T_symbol, 1 / fs)\n",
        "    t_repeated = np.tile(t_symbol, (num_symbols, 1))\n",
        "\n",
        "    # Vectorized frequency mixing at BFSK frequencies\n",
        "    fhe = np.exp(2j * np.pi * f2 * t_repeated) * reshaped_signal\n",
        "    fle = np.exp(2j * np.pi * f1 * t_repeated) * reshaped_signal\n",
        "\n",
        "    # Vectorized integration and decision making\n",
        "    power_0 = np.abs(np.sum(fhe, axis=1)**2)\n",
        "    power_1 = np.abs(np.sum(fle, axis=1)**2)\n",
        "    bitstream = (power_1 > power_0).astype(int)\n",
        "\n",
        "    return bitstream"
      ],
      "metadata": {
        "id": "crc5VgLFy-dz"
      },
      "execution_count": 32,
      "outputs": []
    },
    {
      "cell_type": "markdown",
      "source": [
        "## 3. System Parameters\n",
        "Below are some of the parameters that will be used within the communication link. The parameters will include but are not limited to some characteristics such as the communication band, sampling frequency, symbol period, an array of multipath conditions, and an array of signal to noise ratios."
      ],
      "metadata": {
        "id": "2RiPlx9C38YL"
      }
    },
    {
      "cell_type": "code",
      "source": [
        "Signal_Bandmin = 25000\n",
        "Signal_Bandmax = 30000\n",
        "Sampling_Frequency = 100000\n",
        "Symbol_Period = 0.02 # 20ms"
      ],
      "metadata": {
        "id": "KwtYpaxj4aVe"
      },
      "execution_count": null,
      "outputs": []
    },
    {
      "cell_type": "markdown",
      "source": [
        "Test"
      ],
      "metadata": {
        "id": "b2_YXawVcYn6"
      }
    },
    {
      "cell_type": "code",
      "source": [
        "def test_modulation_demodulation(n, bitstream_length):\n",
        "    error_counts = []\n",
        "    for _ in range(n):\n",
        "        test_bitstream = generate_random_bits(bitstream_length)\n",
        "        test_signal = generate_BFSK_Signal_vectorized(test_bitstream, -2500, 2500, 100000, 27500, 0.02)\n",
        "        test_result = demodulate_BFSK_FrequencyMixing_Vectorized(test_signal, -2500, 2500, 100000, 27500, 0.02)\n",
        "        err = calculate_bitstream_errors(test_bitstream, test_result)\n",
        "        error_counts.append(err)\n",
        "    return error_counts\n",
        "\n",
        "# Example usage\n",
        "n_tests = 100  # Number of tests\n",
        "bitstream_length = 100  # Length of each bitstream\n",
        "errors = test_modulation_demodulation(n_tests, bitstream_length)\n",
        "print(f\"Errors in each test: {errors}\")"
      ],
      "metadata": {
        "colab": {
          "base_uri": "https://localhost:8080/"
        },
        "id": "GUZs-9Z7cYF3",
        "outputId": "ef8f80c2-59e9-4f81-91ee-b653319b9eb3"
      },
      "execution_count": 34,
      "outputs": [
        {
          "output_type": "stream",
          "name": "stdout",
          "text": [
            "Errors in each test: [0, 0, 0, 0, 0, 0, 0, 0, 0, 0, 0, 0, 0, 0, 0, 0, 0, 0, 0, 0, 0, 0, 0, 0, 0, 0, 0, 0, 0, 0, 0, 0, 0, 0, 0, 0, 0, 0, 0, 0, 0, 0, 0, 0, 0, 0, 0, 0, 0, 0, 0, 0, 0, 0, 0, 0, 0, 0, 0, 0, 0, 0, 0, 0, 0, 0, 0, 0, 0, 0, 0, 0, 0, 0, 0, 0, 0, 0, 0, 0, 0, 0, 0, 0, 0, 0, 0, 0, 0, 0, 0, 0, 0, 0, 0, 0, 0, 0, 0, 0]\n"
          ]
        }
      ]
    }
  ]
}